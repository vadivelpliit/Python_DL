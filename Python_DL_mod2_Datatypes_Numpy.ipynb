{
 "cells": [
  {
   "cell_type": "markdown",
   "metadata": {},
   "source": [
    "Author: Vadivel, PL (PV48452)"
   ]
  },
  {
   "cell_type": "markdown",
   "metadata": {
    "deletable": true,
    "editable": true
   },
   "source": [
    "# DICTIONARIES ###############"
   ]
  },
  {
   "cell_type": "code",
   "execution_count": 2,
   "metadata": {
    "collapsed": false,
    "deletable": true,
    "editable": true
   },
   "outputs": [
    {
     "name": "stdout",
     "output_type": "stream",
     "text": [
      "{'three': 'tres', 'two': 'dos', 'one': 'uno'}\n"
     ]
    }
   ],
   "source": [
    "#Dictionary have key value pairs\n",
    "eng2sp = dict()\n",
    "eng2sp = {'one': 'uno', 'two': 'dos', 'three': 'tres'}\n",
    "print(eng2sp)"
   ]
  },
  {
   "cell_type": "code",
   "execution_count": 5,
   "metadata": {
    "collapsed": false,
    "deletable": true,
    "editable": true
   },
   "outputs": [
    {
     "ename": "KeyError",
     "evalue": "'Zero'",
     "output_type": "error",
     "traceback": [
      "\u001b[0;31m\u001b[0m",
      "\u001b[0;31mKeyError\u001b[0mTraceback (most recent call last)",
      "\u001b[0;32m<ipython-input-5-178f8a0ec044>\u001b[0m in \u001b[0;36m<module>\u001b[0;34m()\u001b[0m\n\u001b[0;32m----> 1\u001b[0;31m \u001b[0meng2sp\u001b[0m\u001b[0;34m[\u001b[0m\u001b[0;34m'Zero'\u001b[0m\u001b[0;34m]\u001b[0m \u001b[0;31m#KEy error. Zero key not present in the dictionary\u001b[0m\u001b[0;34m\u001b[0m\u001b[0m\n\u001b[0m",
      "\u001b[0;31mKeyError\u001b[0m: 'Zero'"
     ]
    }
   ],
   "source": [
    "eng2sp['Zero'] #KEy error. Zero key not present in the dictionary"
   ]
  },
  {
   "cell_type": "code",
   "execution_count": 6,
   "metadata": {
    "collapsed": false,
    "deletable": true,
    "editable": true
   },
   "outputs": [
    {
     "name": "stdout",
     "output_type": "stream",
     "text": [
      "3\n",
      "['three', 'two', 'one']\n",
      "['tres', 'dos', 'uno']\n"
     ]
    }
   ],
   "source": [
    "print(len(eng2sp))\n",
    "print(eng2sp.keys()) ; print(eng2sp.values())"
   ]
  },
  {
   "cell_type": "code",
   "execution_count": 14,
   "metadata": {
    "collapsed": false,
    "deletable": true,
    "editable": true
   },
   "outputs": [
    {
     "name": "stdout",
     "output_type": "stream",
     "text": [
      "No Ticket\n",
      "Small Ticket\n"
     ]
    }
   ],
   "source": [
    "#use of function, dictionary and elif\n",
    "def caught_speeding(speed, is_birthday=\"False\"): #if second parameter is not passed while calling the function, by default it will take False\n",
    "    a={'True':[65,85], 'False':[60,80]}\n",
    "    if (speed > a[is_birthday][1]):\n",
    "        return \"Big Ticket\"\n",
    "    elif (speed > a[is_birthday][0]):\n",
    "        return \"Small Ticket\"\n",
    "    else:\n",
    "        return \"No Ticket\"\n",
    "    \n",
    "print(caught_speeding(63,\"True\"))\n",
    "print(caught_speeding(63,\"False\"))"
   ]
  },
  {
   "cell_type": "markdown",
   "metadata": {
    "deletable": true,
    "editable": true
   },
   "source": [
    "# TUPLE ###############"
   ]
  },
  {
   "cell_type": "code",
   "execution_count": 20,
   "metadata": {
    "collapsed": false,
    "deletable": true,
    "editable": true
   },
   "outputs": [
    {
     "data": {
      "text/plain": [
       "()"
      ]
     },
     "execution_count": 20,
     "metadata": {},
     "output_type": "execute_result"
    }
   ],
   "source": [
    "#tuple is similar to list but not mutable. Values cannot be changed. Entire variable has to be rewritten\n",
    "t = tuple()\n",
    "t"
   ]
  },
  {
   "cell_type": "code",
   "execution_count": 19,
   "metadata": {
    "collapsed": false,
    "deletable": true,
    "editable": true
   },
   "outputs": [
    {
     "data": {
      "text/plain": [
       "(4, 6, 8, 10)"
      ]
     },
     "execution_count": 19,
     "metadata": {},
     "output_type": "execute_result"
    }
   ],
   "source": [
    "t = (4,6,8,10)\n",
    "t"
   ]
  },
  {
   "cell_type": "code",
   "execution_count": 18,
   "metadata": {
    "collapsed": false,
    "deletable": true,
    "editable": true
   },
   "outputs": [
    {
     "data": {
      "text/plain": [
       "('l', 'e', 'a', 'd', 'e', 'r', 's')"
      ]
     },
     "execution_count": 18,
     "metadata": {},
     "output_type": "execute_result"
    }
   ],
   "source": [
    "t = tuple('leaders')\n",
    "t"
   ]
  },
  {
   "cell_type": "code",
   "execution_count": 16,
   "metadata": {
    "collapsed": false,
    "deletable": true,
    "editable": true
   },
   "outputs": [
    {
     "ename": "TypeError",
     "evalue": "'tuple' object does not support item assignment",
     "output_type": "error",
     "traceback": [
      "\u001b[0;31m\u001b[0m",
      "\u001b[0;31mTypeError\u001b[0mTraceback (most recent call last)",
      "\u001b[0;32m<ipython-input-16-eef0c82eef3e>\u001b[0m in \u001b[0;36m<module>\u001b[0;34m()\u001b[0m\n\u001b[0;32m----> 1\u001b[0;31m \u001b[0mt\u001b[0m\u001b[0;34m[\u001b[0m\u001b[0;36m1\u001b[0m\u001b[0;34m]\u001b[0m \u001b[0;34m=\u001b[0m \u001b[0;34m'f'\u001b[0m \u001b[0;31m#returns error\u001b[0m\u001b[0;34m\u001b[0m\u001b[0m\n\u001b[0m",
      "\u001b[0;31mTypeError\u001b[0m: 'tuple' object does not support item assignment"
     ]
    }
   ],
   "source": [
    "t[1] = 'f' #returns error"
   ]
  },
  {
   "cell_type": "markdown",
   "metadata": {
    "deletable": true,
    "editable": true
   },
   "source": [
    "# SET ###############"
   ]
  },
  {
   "cell_type": "code",
   "execution_count": 25,
   "metadata": {
    "collapsed": false,
    "deletable": true,
    "editable": true
   },
   "outputs": [],
   "source": [
    "#set doesnt have duplicate values. It has unique representation of each value\n",
    "first_set = set(['a','a','a','b','b','a','c','c','d','a','b']) #not showin in variable explorer\n",
    "second_set = set(['d','e','d','d','e','f'])"
   ]
  },
  {
   "cell_type": "code",
   "execution_count": 26,
   "metadata": {
    "collapsed": false,
    "deletable": true,
    "editable": true
   },
   "outputs": [
    {
     "data": {
      "text/plain": [
       "{'a', 'b', 'c'}"
      ]
     },
     "execution_count": 26,
     "metadata": {},
     "output_type": "execute_result"
    }
   ],
   "source": [
    "first_set.difference(second_set) # A - B"
   ]
  },
  {
   "cell_type": "code",
   "execution_count": 27,
   "metadata": {
    "collapsed": false,
    "deletable": true,
    "editable": true
   },
   "outputs": [
    {
     "data": {
      "text/plain": [
       "{'d'}"
      ]
     },
     "execution_count": 27,
     "metadata": {},
     "output_type": "execute_result"
    }
   ],
   "source": [
    "first_set.intersection(second_set) # A n B"
   ]
  },
  {
   "cell_type": "code",
   "execution_count": 28,
   "metadata": {
    "collapsed": false,
    "deletable": true,
    "editable": true
   },
   "outputs": [
    {
     "data": {
      "text/plain": [
       "{'a', 'b', 'c', 'd', 'e', 'f'}"
      ]
     },
     "execution_count": 28,
     "metadata": {},
     "output_type": "execute_result"
    }
   ],
   "source": [
    "first_set.union(second_set) # A u B"
   ]
  },
  {
   "cell_type": "markdown",
   "metadata": {
    "deletable": true,
    "editable": true
   },
   "source": [
    "# NUMPY ###############"
   ]
  },
  {
   "cell_type": "code",
   "execution_count": 34,
   "metadata": {
    "collapsed": false,
    "deletable": true,
    "editable": true
   },
   "outputs": [],
   "source": [
    "#numpy - numpy has 1D vectors or 2D matrices\n",
    "import numpy as np\n",
    "my_list=[1,2,3]\n",
    "arr = np.array(my_list) #casting a list into a numpy array"
   ]
  },
  {
   "cell_type": "code",
   "execution_count": 36,
   "metadata": {
    "collapsed": false,
    "deletable": true,
    "editable": true
   },
   "outputs": [
    {
     "name": "stdout",
     "output_type": "stream",
     "text": [
      "([1, 2, 3], <type 'list'>, 1)\n"
     ]
    }
   ],
   "source": [
    "print(my_list, type(my_list), my_list[0])"
   ]
  },
  {
   "cell_type": "code",
   "execution_count": 37,
   "metadata": {
    "collapsed": false,
    "deletable": true,
    "editable": true
   },
   "outputs": [
    {
     "name": "stdout",
     "output_type": "stream",
     "text": [
      "(array([1, 2, 3]), <type 'numpy.ndarray'>, 1)\n"
     ]
    }
   ],
   "source": [
    "print(arr, type(arr), arr[0])"
   ]
  },
  {
   "cell_type": "code",
   "execution_count": 38,
   "metadata": {
    "collapsed": false,
    "deletable": true,
    "editable": true
   },
   "outputs": [
    {
     "ename": "TypeError",
     "evalue": "can only concatenate list (not \"int\") to list",
     "output_type": "error",
     "traceback": [
      "\u001b[0;31m\u001b[0m",
      "\u001b[0;31mTypeError\u001b[0mTraceback (most recent call last)",
      "\u001b[0;32m<ipython-input-38-cb08aa576c83>\u001b[0m in \u001b[0;36m<module>\u001b[0;34m()\u001b[0m\n\u001b[0;32m----> 1\u001b[0;31m \u001b[0mmy_list\u001b[0m\u001b[0;34m+\u001b[0m\u001b[0;36m5\u001b[0m   \u001b[0;31m# Error\u001b[0m\u001b[0;34m\u001b[0m\u001b[0m\n\u001b[0m",
      "\u001b[0;31mTypeError\u001b[0m: can only concatenate list (not \"int\") to list"
     ]
    }
   ],
   "source": [
    "my_list+5   # Error"
   ]
  },
  {
   "cell_type": "code",
   "execution_count": 40,
   "metadata": {
    "collapsed": false,
    "deletable": true,
    "editable": true
   },
   "outputs": [
    {
     "data": {
      "text/plain": [
       "array([6, 7, 8])"
      ]
     },
     "execution_count": 40,
     "metadata": {},
     "output_type": "execute_result"
    }
   ],
   "source": [
    "arr+5       # Adds 5 to all elements in arr array"
   ]
  },
  {
   "cell_type": "code",
   "execution_count": 41,
   "metadata": {
    "collapsed": false,
    "deletable": true,
    "editable": true
   },
   "outputs": [
    {
     "data": {
      "text/plain": [
       "array([ 5, 10, 15])"
      ]
     },
     "execution_count": 41,
     "metadata": {},
     "output_type": "execute_result"
    }
   ],
   "source": [
    "arr*5       # Multiplies 5 to all elements in arr array"
   ]
  },
  {
   "cell_type": "code",
   "execution_count": 42,
   "metadata": {
    "collapsed": false,
    "deletable": true,
    "editable": true
   },
   "outputs": [
    {
     "data": {
      "text/plain": [
       "array([[ 0.,  0.,  0.],\n",
       "       [ 0.,  0.,  0.]])"
      ]
     },
     "execution_count": 42,
     "metadata": {},
     "output_type": "execute_result"
    }
   ],
   "source": [
    "a = np.zeros((2,3)) #creating an array of all zeros\n",
    "a"
   ]
  },
  {
   "cell_type": "code",
   "execution_count": 43,
   "metadata": {
    "collapsed": false,
    "deletable": true,
    "editable": true
   },
   "outputs": [
    {
     "data": {
      "text/plain": [
       "array([[ 1.,  1.],\n",
       "       [ 1.,  1.]])"
      ]
     },
     "execution_count": 43,
     "metadata": {},
     "output_type": "execute_result"
    }
   ],
   "source": [
    "b = np.ones((2,2)) #creating an array of all ones\n",
    "b"
   ]
  },
  {
   "cell_type": "code",
   "execution_count": 44,
   "metadata": {
    "collapsed": false,
    "deletable": true,
    "editable": true
   },
   "outputs": [
    {
     "data": {
      "text/plain": [
       "array([[6, 6],\n",
       "       [6, 6]])"
      ]
     },
     "execution_count": 44,
     "metadata": {},
     "output_type": "execute_result"
    }
   ],
   "source": [
    "c = np.full((2,2),6) #fill all the elements with 6\n",
    "c"
   ]
  },
  {
   "cell_type": "code",
   "execution_count": 45,
   "metadata": {
    "collapsed": false,
    "deletable": true,
    "editable": true
   },
   "outputs": [
    {
     "data": {
      "text/plain": [
       "array([[ 1.,  0.],\n",
       "       [ 0.,  1.]])"
      ]
     },
     "execution_count": 45,
     "metadata": {},
     "output_type": "execute_result"
    }
   ],
   "source": [
    "d = np.eye(2) #create a 2*2 identity matrix\n",
    "d"
   ]
  },
  {
   "cell_type": "code",
   "execution_count": 46,
   "metadata": {
    "collapsed": false,
    "deletable": true,
    "editable": true
   },
   "outputs": [
    {
     "data": {
      "text/plain": [
       "array([[ 0.76834703,  0.97197731],\n",
       "       [ 0.95407262,  0.43830853]])"
      ]
     },
     "execution_count": 46,
     "metadata": {},
     "output_type": "execute_result"
    }
   ],
   "source": [
    "e = np.random.rand(2,2) #random numbers from a uniform distribution between 0 and 1. create a 2*2 array filled with random numbers\n",
    "e"
   ]
  },
  {
   "cell_type": "code",
   "execution_count": 47,
   "metadata": {
    "collapsed": false,
    "deletable": true,
    "editable": true
   },
   "outputs": [
    {
     "data": {
      "text/plain": [
       "array([[ 0.96871331,  0.93070271],\n",
       "       [-1.06984869,  0.49633907]])"
      ]
     },
     "execution_count": 47,
     "metadata": {},
     "output_type": "execute_result"
    }
   ],
   "source": [
    "e1= np.random.randn(2,2) #random numbers from a normal distribution\n",
    "e1"
   ]
  },
  {
   "cell_type": "code",
   "execution_count": 49,
   "metadata": {
    "collapsed": false,
    "deletable": true,
    "editable": true
   },
   "outputs": [
    {
     "data": {
      "text/plain": [
       "array([[2, 2, 1, 1],\n",
       "       [1, 0, 1, 2]])"
      ]
     },
     "execution_count": 49,
     "metadata": {},
     "output_type": "execute_result"
    }
   ],
   "source": [
    "f = np.random.randint(0,3,(2,4)) # create a 2*4 array filled with random numbers - 0 and 2. Start, stop, size\n",
    "f"
   ]
  },
  {
   "cell_type": "code",
   "execution_count": 50,
   "metadata": {
    "collapsed": false,
    "deletable": true,
    "editable": true
   },
   "outputs": [
    {
     "data": {
      "text/plain": [
       "array([ 0. ,  0.5,  1. ,  1.5,  2. ,  2.5,  3. ,  3.5,  4. ,  4.5,  5. ])"
      ]
     },
     "execution_count": 50,
     "metadata": {},
     "output_type": "execute_result"
    }
   ],
   "source": [
    "g = np.linspace(0,5,11) #gives 11 evenly spaced points between 0 and 5\n",
    "g"
   ]
  },
  {
   "cell_type": "code",
   "execution_count": 51,
   "metadata": {
    "collapsed": false,
    "deletable": true,
    "editable": true
   },
   "outputs": [
    {
     "data": {
      "text/plain": [
       "array([ 0,  2,  4,  6,  8, 10])"
      ]
     },
     "execution_count": 51,
     "metadata": {},
     "output_type": "execute_result"
    }
   ],
   "source": [
    "h = np.arange(0,11,2) #similar to range function. this returns an array\n",
    "h"
   ]
  },
  {
   "cell_type": "code",
   "execution_count": 52,
   "metadata": {
    "collapsed": true,
    "deletable": true,
    "editable": true
   },
   "outputs": [],
   "source": [
    "###########################################################################################################################"
   ]
  },
  {
   "cell_type": "code",
   "execution_count": 59,
   "metadata": {
    "collapsed": false,
    "deletable": true,
    "editable": true
   },
   "outputs": [
    {
     "name": "stdout",
     "output_type": "stream",
     "text": [
      "0.968713310118\n",
      "-1.06984868797\n",
      "0\n",
      "2\n"
     ]
    }
   ],
   "source": [
    "print(e1.max()) #method to find max element in an array\n",
    "print(e1.min()) #or np.min(e1) - both are same\n",
    "print(e1.argmax()) #gives the position of max\n",
    "print(e1.argmin()) #gives the position of min"
   ]
  },
  {
   "cell_type": "code",
   "execution_count": 66,
   "metadata": {
    "collapsed": false,
    "deletable": true,
    "editable": true
   },
   "outputs": [
    {
     "data": {
      "text/plain": [
       "array([[-1.06984869,  0.49633907]])"
      ]
     },
     "execution_count": 66,
     "metadata": {},
     "output_type": "execute_result"
    }
   ],
   "source": [
    "e1[-1:]   # Returns the last row"
   ]
  },
  {
   "cell_type": "code",
   "execution_count": 67,
   "metadata": {
    "collapsed": false,
    "deletable": true,
    "editable": true
   },
   "outputs": [
    {
     "data": {
      "text/plain": [
       "array([ 0.49633907])"
      ]
     },
     "execution_count": 67,
     "metadata": {},
     "output_type": "execute_result"
    }
   ],
   "source": [
    "e1[-1:,1] # Returns the second element in the last row"
   ]
  },
  {
   "cell_type": "code",
   "execution_count": 68,
   "metadata": {
    "collapsed": false,
    "deletable": true,
    "editable": true
   },
   "outputs": [
    {
     "data": {
      "text/plain": [
       "array([[-1.06984869]])"
      ]
     },
     "execution_count": 68,
     "metadata": {},
     "output_type": "execute_result"
    }
   ],
   "source": [
    "e1[-1:,0:1] # Returns the first element in the last row"
   ]
  },
  {
   "cell_type": "code",
   "execution_count": 64,
   "metadata": {
    "collapsed": false,
    "deletable": true,
    "editable": true
   },
   "outputs": [
    {
     "data": {
      "text/plain": [
       "array([[ True,  True],\n",
       "       [False,  True]], dtype=bool)"
      ]
     },
     "execution_count": 64,
     "metadata": {},
     "output_type": "execute_result"
    }
   ],
   "source": [
    "e1>0 #This return an array of boolean True / False"
   ]
  },
  {
   "cell_type": "code",
   "execution_count": 65,
   "metadata": {
    "collapsed": false,
    "deletable": true,
    "editable": true
   },
   "outputs": [
    {
     "data": {
      "text/plain": [
       "array([ 0.96871331,  0.93070271,  0.49633907])"
      ]
     },
     "execution_count": 65,
     "metadata": {},
     "output_type": "execute_result"
    }
   ],
   "source": [
    "e1[e1>0] #This returns elements for whose index inside boolean array is positive"
   ]
  },
  {
   "cell_type": "code",
   "execution_count": 60,
   "metadata": {
    "collapsed": false,
    "deletable": true,
    "editable": true
   },
   "outputs": [
    {
     "data": {
      "text/plain": [
       "array([[2, 2],\n",
       "       [1, 1],\n",
       "       [1, 0],\n",
       "       [1, 2]])"
      ]
     },
     "execution_count": 60,
     "metadata": {},
     "output_type": "execute_result"
    }
   ],
   "source": [
    "f = f.reshape(4,2) #reashaping array of a particular dimenstion into another dimension\n",
    "f"
   ]
  },
  {
   "cell_type": "code",
   "execution_count": 61,
   "metadata": {
    "collapsed": false,
    "deletable": true,
    "editable": true
   },
   "outputs": [
    {
     "data": {
      "text/plain": [
       "array([2, 2])"
      ]
     },
     "execution_count": 61,
     "metadata": {},
     "output_type": "execute_result"
    }
   ],
   "source": [
    "f[0]"
   ]
  },
  {
   "cell_type": "code",
   "execution_count": 62,
   "metadata": {
    "collapsed": false,
    "deletable": true,
    "editable": true
   },
   "outputs": [
    {
     "data": {
      "text/plain": [
       "2"
      ]
     },
     "execution_count": 62,
     "metadata": {},
     "output_type": "execute_result"
    }
   ],
   "source": [
    "f[0][1]"
   ]
  },
  {
   "cell_type": "code",
   "execution_count": 63,
   "metadata": {
    "collapsed": false,
    "deletable": true,
    "editable": true
   },
   "outputs": [
    {
     "data": {
      "text/plain": [
       "2"
      ]
     },
     "execution_count": 63,
     "metadata": {},
     "output_type": "execute_result"
    }
   ],
   "source": [
    "f[0,1] #Both this line and above line return same result"
   ]
  },
  {
   "cell_type": "code",
   "execution_count": 76,
   "metadata": {
    "collapsed": false,
    "deletable": true,
    "editable": true
   },
   "outputs": [
    {
     "data": {
      "text/plain": [
       "array([[ 3.,  3.],\n",
       "       [ 3.,  3.]])"
      ]
     },
     "execution_count": 76,
     "metadata": {},
     "output_type": "execute_result"
    }
   ],
   "source": [
    "e[:]=3\n",
    "e"
   ]
  },
  {
   "cell_type": "code",
   "execution_count": 85,
   "metadata": {
    "collapsed": false,
    "deletable": true,
    "editable": true
   },
   "outputs": [
    {
     "data": {
      "text/plain": [
       "array([[ 3.,  3.],\n",
       "       [ 4.,  4.]])"
      ]
     },
     "execution_count": 85,
     "metadata": {},
     "output_type": "execute_result"
    }
   ],
   "source": [
    "slice_of_e = e #This is just a reference to e. if you change e, slice_of_e will also change\n",
    "slice_of_e_1 = e.copy()\n",
    "e[1]=4\n",
    "e"
   ]
  },
  {
   "cell_type": "code",
   "execution_count": 78,
   "metadata": {
    "collapsed": false,
    "deletable": true,
    "editable": true
   },
   "outputs": [
    {
     "data": {
      "text/plain": [
       "array([[ 3.,  3.],\n",
       "       [ 4.,  4.]])"
      ]
     },
     "execution_count": 78,
     "metadata": {},
     "output_type": "execute_result"
    }
   ],
   "source": [
    "slice_of_e"
   ]
  },
  {
   "cell_type": "code",
   "execution_count": 79,
   "metadata": {
    "collapsed": false,
    "deletable": true,
    "editable": true
   },
   "outputs": [
    {
     "data": {
      "text/plain": [
       "array([[ 3.,  3.],\n",
       "       [ 3.,  3.]])"
      ]
     },
     "execution_count": 79,
     "metadata": {},
     "output_type": "execute_result"
    }
   ],
   "source": [
    "slice_of_e_1"
   ]
  },
  {
   "cell_type": "code",
   "execution_count": 80,
   "metadata": {
    "collapsed": true,
    "deletable": true,
    "editable": true
   },
   "outputs": [],
   "source": [
    "###########################################################################################################################"
   ]
  },
  {
   "cell_type": "code",
   "execution_count": 81,
   "metadata": {
    "collapsed": false,
    "deletable": true,
    "editable": true
   },
   "outputs": [
    {
     "data": {
      "text/plain": [
       "array([[ 7.,  7.],\n",
       "       [ 7.,  7.]])"
      ]
     },
     "execution_count": 81,
     "metadata": {},
     "output_type": "execute_result"
    }
   ],
   "source": [
    "np.add(c,b)"
   ]
  },
  {
   "cell_type": "code",
   "execution_count": 82,
   "metadata": {
    "collapsed": false,
    "deletable": true,
    "editable": true
   },
   "outputs": [
    {
     "data": {
      "text/plain": [
       "array([[ 5.,  5.],\n",
       "       [ 5.,  5.]])"
      ]
     },
     "execution_count": 82,
     "metadata": {},
     "output_type": "execute_result"
    }
   ],
   "source": [
    "np.subtract(c,b)"
   ]
  },
  {
   "cell_type": "code",
   "execution_count": 83,
   "metadata": {
    "collapsed": false,
    "deletable": true,
    "editable": true
   },
   "outputs": [
    {
     "data": {
      "text/plain": [
       "array([[ 6.,  0.],\n",
       "       [ 0.,  6.]])"
      ]
     },
     "execution_count": 83,
     "metadata": {},
     "output_type": "execute_result"
    }
   ],
   "source": [
    "np.multiply(c,d)"
   ]
  },
  {
   "cell_type": "code",
   "execution_count": 84,
   "metadata": {
    "collapsed": false,
    "deletable": true,
    "editable": true
   },
   "outputs": [
    {
     "data": {
      "text/plain": [
       "10"
      ]
     },
     "execution_count": 84,
     "metadata": {},
     "output_type": "execute_result"
    }
   ],
   "source": [
    "np.sum(f) #sum of all the elements in f"
   ]
  },
  {
   "cell_type": "code",
   "execution_count": 86,
   "metadata": {
    "collapsed": false,
    "deletable": true,
    "editable": true
   },
   "outputs": [
    {
     "data": {
      "text/plain": [
       "array([ 7.,  7.])"
      ]
     },
     "execution_count": 86,
     "metadata": {},
     "output_type": "execute_result"
    }
   ],
   "source": [
    "np.sum(e, axis=0) #sum of all elements in the columns of e. "
   ]
  },
  {
   "cell_type": "code",
   "execution_count": 87,
   "metadata": {
    "collapsed": false,
    "deletable": true,
    "editable": true
   },
   "outputs": [
    {
     "data": {
      "text/plain": [
       "array([ 6.,  8.])"
      ]
     },
     "execution_count": 87,
     "metadata": {},
     "output_type": "execute_result"
    }
   ],
   "source": [
    "np.sum(e, axis=1) # axis=1 -> sum of row elements"
   ]
  },
  {
   "cell_type": "code",
   "execution_count": 88,
   "metadata": {
    "collapsed": false,
    "deletable": true,
    "editable": true
   },
   "outputs": [
    {
     "data": {
      "text/plain": [
       "array([[ 1.73205081,  1.73205081],\n",
       "       [ 2.        ,  2.        ]])"
      ]
     },
     "execution_count": 88,
     "metadata": {},
     "output_type": "execute_result"
    }
   ],
   "source": [
    "np.sqrt(e)"
   ]
  },
  {
   "cell_type": "code",
   "execution_count": 89,
   "metadata": {
    "collapsed": false,
    "deletable": true,
    "editable": true
   },
   "outputs": [
    {
     "data": {
      "text/plain": [
       "array([ 6.,  6.,  6.,  6.,  1.,  0.,  0.,  1.])"
      ]
     },
     "execution_count": 89,
     "metadata": {},
     "output_type": "execute_result"
    }
   ],
   "source": [
    "np.append(c,d)"
   ]
  },
  {
   "cell_type": "code",
   "execution_count": 91,
   "metadata": {
    "collapsed": true,
    "deletable": true,
    "editable": true
   },
   "outputs": [],
   "source": [
    "###########################################################################################################################"
   ]
  },
  {
   "cell_type": "code",
   "execution_count": 92,
   "metadata": {
    "collapsed": true,
    "deletable": true,
    "editable": true
   },
   "outputs": [],
   "source": [
    "import random\n",
    "random.seed(42)\n",
    "grade = [np.random.rand() for i in range(0,1000)] #generate 1000 random numbers"
   ]
  },
  {
   "cell_type": "code",
   "execution_count": 93,
   "metadata": {
    "collapsed": false,
    "deletable": true,
    "editable": true
   },
   "outputs": [
    {
     "data": {
      "text/plain": [
       "[0.945594037558377,\n",
       " 0.18659958632060902,\n",
       " 0.9859759183967577,\n",
       " 0.3253556862702114,\n",
       " 0.4190360761864681,\n",
       " 0.3972166644863987,\n",
       " 0.683213777293569,\n",
       " 0.8263159297846799,\n",
       " 0.4809648896516978,\n",
       " 0.3643496688733687,\n",
       " 0.4841761919230483,\n",
       " 0.5122568973393661,\n",
       " 0.14592013614974797,\n",
       " 0.15284252186624858,\n",
       " 0.10701244282624234,\n",
       " 0.7979103069249239,\n",
       " 0.14943465207150597,\n",
       " 0.6287163383414804,\n",
       " 0.48538726110252484,\n",
       " 0.318175942153752,\n",
       " 0.044312709815173656,\n",
       " 0.673708204413308,\n",
       " 0.27071031321304484,\n",
       " 0.7922938901428531,\n",
       " 0.6684707871889388,\n",
       " 0.21431934640260986,\n",
       " 0.8326227153181311,\n",
       " 0.9492028696822237,\n",
       " 0.6832260389278075,\n",
       " 0.11746090252928931,\n",
       " 0.21560494031170951,\n",
       " 0.2587526266027603,\n",
       " 0.24713504229286065,\n",
       " 0.7922481982656309,\n",
       " 0.5271559453356847,\n",
       " 0.3266696353282169,\n",
       " 0.35525759280613034,\n",
       " 0.6294658271744454,\n",
       " 0.35324318561684875,\n",
       " 0.9473080898326093,\n",
       " 0.849211340618603,\n",
       " 0.378471559409746,\n",
       " 0.032793296222651036,\n",
       " 0.9855360001913555,\n",
       " 0.39467356866405445,\n",
       " 0.9500148272142743,\n",
       " 0.09626954887481565,\n",
       " 0.6033045645751521,\n",
       " 0.29832825677605357,\n",
       " 0.7562649983843551,\n",
       " 0.18805940790939357,\n",
       " 0.9934865633354664,\n",
       " 0.2695396995402657,\n",
       " 0.41697651789472234,\n",
       " 0.9041346310045144,\n",
       " 0.9237641127532044,\n",
       " 0.8795010972598278,\n",
       " 0.6575256886037316,\n",
       " 0.0410866097149839,\n",
       " 0.5808508350555859,\n",
       " 0.9148315224404754,\n",
       " 0.7795762644245497,\n",
       " 0.1566349891747152,\n",
       " 0.43431002870126345,\n",
       " 0.40916869840804626,\n",
       " 0.7900426026796203,\n",
       " 0.7461069533414715,\n",
       " 0.6139495642856784,\n",
       " 0.28724648346741766,\n",
       " 0.7260012324548393,\n",
       " 0.5198796177444844,\n",
       " 0.32307125071184717,\n",
       " 0.07311340525547716,\n",
       " 0.27491578882741496,\n",
       " 0.5498469781399341,\n",
       " 0.8893792729112036,\n",
       " 0.359779589992117,\n",
       " 0.39451783202645263,\n",
       " 0.8314438380441049,\n",
       " 0.9614437376867013,\n",
       " 0.42689603039614743,\n",
       " 0.28966583490397657,\n",
       " 0.2131835496599629,\n",
       " 0.3933979939927712,\n",
       " 0.4011577856163827,\n",
       " 0.7639360348909584,\n",
       " 0.24705269188888523,\n",
       " 0.03744213288349951,\n",
       " 0.10376879964938646,\n",
       " 0.2440614274340539,\n",
       " 0.72243936173007,\n",
       " 0.1841505391443785,\n",
       " 0.5024404854475905,\n",
       " 0.35737557050724666,\n",
       " 0.2382862247312053,\n",
       " 0.0739173125441932,\n",
       " 0.8021755715099085,\n",
       " 0.511124989508948,\n",
       " 0.5526763174203422,\n",
       " 0.9472334493351688,\n",
       " 0.22425531687805822,\n",
       " 0.9319530721257396,\n",
       " 0.6591870770598124,\n",
       " 0.7659702273405625,\n",
       " 0.760234493197886,\n",
       " 0.6208955118143299,\n",
       " 0.8853511912157228,\n",
       " 0.11423769750247759,\n",
       " 0.5745993245555532,\n",
       " 0.27093029040532257,\n",
       " 0.7983597465623069,\n",
       " 0.20878403560808878,\n",
       " 0.7043890532935436,\n",
       " 0.08139435527248928,\n",
       " 0.809832307409463,\n",
       " 0.1423701112687672,\n",
       " 0.0328237337926397,\n",
       " 0.8337614369136391,\n",
       " 0.47209389088146114,\n",
       " 0.9877588901802478,\n",
       " 0.8510292708607259,\n",
       " 0.5703246006972201,\n",
       " 0.04878691743521635,\n",
       " 0.36767588306437604,\n",
       " 0.28028500269310685,\n",
       " 0.2164407288300848,\n",
       " 0.357445243934967,\n",
       " 0.9341654909840609,\n",
       " 0.7900865936980818,\n",
       " 0.3827086781100828,\n",
       " 0.010622821249076764,\n",
       " 0.5548057323614125,\n",
       " 0.6407881452845013,\n",
       " 0.5060496470825065,\n",
       " 0.6908240450267543,\n",
       " 0.39910948641780963,\n",
       " 0.7333514265055432,\n",
       " 0.88352127540883,\n",
       " 0.5651779559869046,\n",
       " 0.8738831149479762,\n",
       " 0.9477406300884312,\n",
       " 0.7237823374126519,\n",
       " 0.46147240947286206,\n",
       " 0.5106717736803814,\n",
       " 0.012474506140915054,\n",
       " 0.4794459323199717,\n",
       " 0.5992988315955261,\n",
       " 0.8578822680702642,\n",
       " 0.33578549698263693,\n",
       " 0.5927613909264848,\n",
       " 0.7126595912111056,\n",
       " 0.0026338197080875148,\n",
       " 0.09006890375563059,\n",
       " 0.8261191137468754,\n",
       " 0.14718825154813675,\n",
       " 0.33045537191669483,\n",
       " 0.39663376966024577,\n",
       " 0.8195934286067504,\n",
       " 0.21719510024741395,\n",
       " 0.24825541660977157,\n",
       " 0.3228678168431325,\n",
       " 0.8197182312026015,\n",
       " 0.6931887782227333,\n",
       " 0.00789925417461701,\n",
       " 0.6569321402420677,\n",
       " 0.9300485915554431,\n",
       " 0.8685591175529768,\n",
       " 0.851499704813077,\n",
       " 0.22992629025721223,\n",
       " 0.062081212848930534,\n",
       " 0.9489869543123267,\n",
       " 0.2452111424336323,\n",
       " 0.951011465029912,\n",
       " 0.004066437227266184,\n",
       " 0.018699791858875603,\n",
       " 0.4584723303574255,\n",
       " 0.39730161324194035,\n",
       " 0.05357619586863427,\n",
       " 0.38042513650700494,\n",
       " 0.362462519811969,\n",
       " 0.0098208485672866,\n",
       " 0.5679023071490219,\n",
       " 0.2115939533962481,\n",
       " 0.18380201682275588,\n",
       " 0.46802536758142055,\n",
       " 0.15012134698414425,\n",
       " 0.5787527594541326,\n",
       " 0.22448882119448166,\n",
       " 0.9166489541580306,\n",
       " 0.02464043163311347,\n",
       " 0.5684004535354031,\n",
       " 0.1559303768184015,\n",
       " 0.4017169843661733,\n",
       " 0.05740232735948547,\n",
       " 0.8719985339277814,\n",
       " 0.34297358098109876,\n",
       " 0.7256865209019662,\n",
       " 0.326069781384814,\n",
       " 0.28145559816343424,\n",
       " 0.35390833164570257,\n",
       " 0.04066982209457326,\n",
       " 0.6024998049315393,\n",
       " 0.4447805857115654,\n",
       " 0.5494735966335996,\n",
       " 0.24968846004213463,\n",
       " 0.769910328234882,\n",
       " 0.2372110812704168,\n",
       " 0.5082755690506823,\n",
       " 0.5413202302838057,\n",
       " 0.23673170208762484,\n",
       " 0.03700193294113874,\n",
       " 0.2617271226738189,\n",
       " 0.8265075519503832,\n",
       " 0.4159868491745723,\n",
       " 0.7423193625049865,\n",
       " 0.9258622840861118,\n",
       " 0.6420416062309384,\n",
       " 0.7338002616824562,\n",
       " 0.6835459496221916,\n",
       " 0.6860609045476116,\n",
       " 0.04711267209451919,\n",
       " 0.32931757664889405,\n",
       " 0.3178804014370069,\n",
       " 0.22787609641080908,\n",
       " 0.8545370709541,\n",
       " 0.5008071724887079,\n",
       " 0.9341410987767281,\n",
       " 0.21666431509299056,\n",
       " 0.11090482078488373,\n",
       " 0.4616306350520202,\n",
       " 0.4498394015555517,\n",
       " 0.030213591705416487,\n",
       " 0.4917172879663052,\n",
       " 0.18119694157053012,\n",
       " 0.10910312742122408,\n",
       " 0.27217642104727047,\n",
       " 0.23467280335064422,\n",
       " 0.80279578059084,\n",
       " 0.011580036348027178,\n",
       " 0.15800261211768052,\n",
       " 0.3412068800949004,\n",
       " 0.6969236172006307,\n",
       " 0.7132589066569202,\n",
       " 0.44536711208074087,\n",
       " 0.8517574831793541,\n",
       " 0.8442598265755119,\n",
       " 0.6890550593687664,\n",
       " 0.841919974636553,\n",
       " 0.19755293566132404,\n",
       " 0.15092047069271464,\n",
       " 0.8599169269654898,\n",
       " 0.1773338201156628,\n",
       " 0.11825345355888661,\n",
       " 0.7714313641854195,\n",
       " 0.7535118337602601,\n",
       " 0.9721562837335294,\n",
       " 0.33907030050825415,\n",
       " 0.167578400916631,\n",
       " 0.7299975557566001,\n",
       " 0.7932725468568446,\n",
       " 0.5773727182255236,\n",
       " 0.8231655865992754,\n",
       " 0.9250670192797998,\n",
       " 0.2442670780574473,\n",
       " 0.873118975658114,\n",
       " 0.9208129407287178,\n",
       " 0.42765179771191686,\n",
       " 0.949530693891284,\n",
       " 0.6847007018880332,\n",
       " 0.08971971517803823,\n",
       " 0.34507252187871307,\n",
       " 0.22635679841843415,\n",
       " 0.09496681499926285,\n",
       " 0.20167455252454902,\n",
       " 0.07617012765803699,\n",
       " 0.6764510210177984,\n",
       " 0.10238639533252614,\n",
       " 0.004025751760862506,\n",
       " 0.6230464639063051,\n",
       " 0.5920331812427412,\n",
       " 0.0493130665372562,\n",
       " 0.341374418620213,\n",
       " 0.24377790515201825,\n",
       " 0.9994005365709284,\n",
       " 0.6638547644031478,\n",
       " 0.7092588277306517,\n",
       " 0.193909880955911,\n",
       " 0.9754543769077442,\n",
       " 0.36547970106439975,\n",
       " 0.740795595834106,\n",
       " 0.9004775458323265,\n",
       " 0.46462386498537345,\n",
       " 0.6459057169937484,\n",
       " 0.2285096785889299,\n",
       " 0.3035431864748842,\n",
       " 0.9170050398489308,\n",
       " 0.4284969650363384,\n",
       " 0.4383531876751885,\n",
       " 0.9990875846093054,\n",
       " 0.5949230767580026,\n",
       " 0.670922338807619,\n",
       " 0.1591400232183653,\n",
       " 0.15070272397598394,\n",
       " 0.5599168511009159,\n",
       " 0.16392696543463792,\n",
       " 0.020320351926043312,\n",
       " 0.38350770133258727,\n",
       " 0.3000024421629254,\n",
       " 0.8065176104108265,\n",
       " 0.5224259483303431,\n",
       " 0.13357592031958787,\n",
       " 0.013140098378903398,\n",
       " 0.14930696439328028,\n",
       " 0.8185002174015359,\n",
       " 0.7271583739102391,\n",
       " 0.12052446931990635,\n",
       " 0.3807473701283103,\n",
       " 0.7018676742923148,\n",
       " 0.48859092227241874,\n",
       " 0.7266513062750025,\n",
       " 0.6343086489410351,\n",
       " 0.9399006269381626,\n",
       " 0.3921565482914816,\n",
       " 0.36434181652138586,\n",
       " 0.5996455801886985,\n",
       " 0.5094674730475538,\n",
       " 0.3459323694409221,\n",
       " 0.5291371324061858,\n",
       " 0.4604361252764845,\n",
       " 0.048197307646608234,\n",
       " 0.7743875774756818,\n",
       " 0.14553757465929518,\n",
       " 0.8557341561642311,\n",
       " 0.35299708635070315,\n",
       " 0.4216046437223089,\n",
       " 0.9770329003398264,\n",
       " 0.3220758870253456,\n",
       " 0.7607109032444811,\n",
       " 0.6749591277250376,\n",
       " 0.1839912489855019,\n",
       " 0.8022855237312781,\n",
       " 0.40018243192264824,\n",
       " 0.4434263848686798,\n",
       " 0.8317862578804417,\n",
       " 0.24847313495045176,\n",
       " 0.26426206332075286,\n",
       " 0.23502187616188785,\n",
       " 0.9349062195978723,\n",
       " 0.27980601317063136,\n",
       " 0.07710554807509773,\n",
       " 0.7950264907740051,\n",
       " 0.3810628644198646,\n",
       " 0.30251518876760974,\n",
       " 0.8320696898216426,\n",
       " 0.5216344389488015,\n",
       " 0.7050137703114947,\n",
       " 0.16087215148046174,\n",
       " 0.9691027835814153,\n",
       " 0.35385057284537813,\n",
       " 0.9402331627546353,\n",
       " 0.11013455634110059,\n",
       " 0.35178976907411497,\n",
       " 0.1547872958115556,\n",
       " 0.8656200797042605,\n",
       " 0.9762506154126366,\n",
       " 0.7786383415208649,\n",
       " 0.955716551133283,\n",
       " 0.18940004649390885,\n",
       " 0.9350074744479306,\n",
       " 0.6150055801591378,\n",
       " 0.19264358821216276,\n",
       " 0.180126745496081,\n",
       " 0.043240829501652756,\n",
       " 0.4793456742565546,\n",
       " 0.548383294434786,\n",
       " 0.9328240027515609,\n",
       " 0.9549604826031537,\n",
       " 0.7839109296322888,\n",
       " 0.8257836913263574,\n",
       " 0.09293218463722619,\n",
       " 0.2475101211238675,\n",
       " 0.8873754829647277,\n",
       " 0.349917815791582,\n",
       " 0.8848655044304077,\n",
       " 0.2947031748966493,\n",
       " 0.12061616417165355,\n",
       " 0.48328552396729607,\n",
       " 0.5677387091549935,\n",
       " 0.30239199498179603,\n",
       " 0.8123569184035182,\n",
       " 0.8960346460005816,\n",
       " 0.36709907812130005,\n",
       " 0.5932415830397679,\n",
       " 0.5419586402108262,\n",
       " 0.6045138531507805,\n",
       " 0.48912113387501865,\n",
       " 0.9461778186329953,\n",
       " 0.767977197304423,\n",
       " 0.9819157872361652,\n",
       " 0.0707896530238904,\n",
       " 0.46305405365296703,\n",
       " 0.6840949836129695,\n",
       " 0.5866880930847095,\n",
       " 0.8853555963975991,\n",
       " 0.5804407534613499,\n",
       " 0.11770984470979673,\n",
       " 0.03532806359846563,\n",
       " 0.3746099741821336,\n",
       " 0.6393556644498378,\n",
       " 0.5650654782137869,\n",
       " 0.05114877333345824,\n",
       " 0.2100932604935245,\n",
       " 0.5806030777193648,\n",
       " 0.5064601974082602,\n",
       " 0.14446453292963912,\n",
       " 0.6652204831480292,\n",
       " 0.5719245387467013,\n",
       " 0.09871969484866883,\n",
       " 0.8738195169493792,\n",
       " 0.47676994822882035,\n",
       " 0.10696444557395846,\n",
       " 0.270809238732034,\n",
       " 0.7406472614317992,\n",
       " 0.6788662578520936,\n",
       " 0.8218893204207824,\n",
       " 0.8397976467783309,\n",
       " 0.46760146412904247,\n",
       " 0.09334055911759431,\n",
       " 0.3916918733313822,\n",
       " 0.962926917880213,\n",
       " 0.712682289419857,\n",
       " 0.34191615327636393,\n",
       " 0.08064746010539425,\n",
       " 0.23064253419954872,\n",
       " 0.686493023233353,\n",
       " 0.25768489026978925,\n",
       " 0.7863369977357313,\n",
       " 0.9806687520424804,\n",
       " 0.0304428663160643,\n",
       " 0.32609613325006015,\n",
       " 0.06804797893825776,\n",
       " 0.45163752121773204,\n",
       " 0.8304607267543288,\n",
       " 0.6749394654630401,\n",
       " 0.19448706711534836,\n",
       " 0.46346458275702485,\n",
       " 0.9172030974914861,\n",
       " 0.34357917737740573,\n",
       " 0.9943690530526831,\n",
       " 0.39112491146484174,\n",
       " 0.6626343890327017,\n",
       " 0.3233245784573624,\n",
       " 0.9461109500547075,\n",
       " 0.06934325617094217,\n",
       " 0.7857052966492281,\n",
       " 0.9092443938096919,\n",
       " 0.8845036950042211,\n",
       " 0.7563787563546724,\n",
       " 0.4861698854837827,\n",
       " 0.16606128348821247,\n",
       " 0.2689646193692008,\n",
       " 0.9437026128857919,\n",
       " 0.8352946794425808,\n",
       " 0.2259937486114052,\n",
       " 0.7873296911149088,\n",
       " 0.924314181216864,\n",
       " 0.21401383871816448,\n",
       " 0.9213860577215542,\n",
       " 0.7891083239156598,\n",
       " 0.7103516651483385,\n",
       " 0.566032076421004,\n",
       " 0.5580117188640225,\n",
       " 0.28515871579859453,\n",
       " 0.6149984859825032,\n",
       " 0.0250647937459062,\n",
       " 0.43525076467636403,\n",
       " 0.9495010553101871,\n",
       " 0.18151381345225304,\n",
       " 0.24653216204854111,\n",
       " 0.7496042675110494,\n",
       " 0.6452918602995893,\n",
       " 0.4585851202543507,\n",
       " 0.2248467105645633,\n",
       " 0.337751962641346,\n",
       " 0.9248278332914542,\n",
       " 0.8803032539144972,\n",
       " 0.4408902132200372,\n",
       " 0.6897180158912817,\n",
       " 0.011094112954331825,\n",
       " 0.6813492628381841,\n",
       " 0.3978517091135645,\n",
       " 0.8149870425181388,\n",
       " 0.8345636205362851,\n",
       " 0.6563378778069641,\n",
       " 0.2775143699396254,\n",
       " 0.22137957719928214,\n",
       " 0.13760345014748387,\n",
       " 0.48596609868176444,\n",
       " 0.12708177634467432,\n",
       " 0.9496171465605175,\n",
       " 0.4281913369221405,\n",
       " 0.6277151791737825,\n",
       " 0.620869785317251,\n",
       " 0.04113631115315608,\n",
       " 0.8322380272783264,\n",
       " 0.9574070211898623,\n",
       " 0.07711966475670051,\n",
       " 0.44796106149095083,\n",
       " 0.8067166028253274,\n",
       " 0.31647927221598093,\n",
       " 0.003337378668783253,\n",
       " 0.5185144051578596,\n",
       " 0.22859130399303318,\n",
       " 0.3995351540218457,\n",
       " 0.3347001358989852,\n",
       " 0.2228856217487838,\n",
       " 0.9591628167967104,\n",
       " 0.3398125539926917,\n",
       " 0.4521472421198153,\n",
       " 0.9290976560243203,\n",
       " 0.32583654933248574,\n",
       " 0.3428255043746695,\n",
       " 0.03090103996367788,\n",
       " 0.10407543092722815,\n",
       " 0.8589406023396327,\n",
       " 0.08667841509182972,\n",
       " 0.48501740722962994,\n",
       " 0.14781524845644334,\n",
       " 0.8242721814566891,\n",
       " 0.8504560382965103,\n",
       " 0.5585230697246985,\n",
       " 0.49706080322705726,\n",
       " 0.34199837714195647,\n",
       " 0.11616651950165902,\n",
       " 0.018522101005466474,\n",
       " 0.9745647936504398,\n",
       " 0.598317695880681,\n",
       " 0.2692828504514413,\n",
       " 0.7123692926247768,\n",
       " 0.9697631364332272,\n",
       " 0.10573863532546701,\n",
       " 0.1408456204870081,\n",
       " 0.5116221417947944,\n",
       " 0.6311345668532345,\n",
       " 0.20243196734997382,\n",
       " 0.786960706372643,\n",
       " 0.9223134892669418,\n",
       " 0.7029259421035847,\n",
       " 0.7335388658611028,\n",
       " 0.9518574609760496,\n",
       " 0.14073672761753664,\n",
       " 0.24007927170698318,\n",
       " 0.33511688761891845,\n",
       " 0.658063963723523,\n",
       " 0.4890928259645465,\n",
       " 0.06647090330922956,\n",
       " 0.5432502755596743,\n",
       " 0.18861519262182913,\n",
       " 0.45439381885152175,\n",
       " 0.5933875105701683,\n",
       " 0.4476202265774054,\n",
       " 0.24855514636029563,\n",
       " 0.03438914359254064,\n",
       " 0.3846230666894891,\n",
       " 0.9902249841660976,\n",
       " 0.7172277747141257,\n",
       " 0.2678306064500934,\n",
       " 0.8363876109529693,\n",
       " 0.1000619194483886,\n",
       " 0.5584826963690227,\n",
       " 0.547117295151348,\n",
       " 0.8885283554886689,\n",
       " 0.33421745053028784,\n",
       " 0.6741824719266988,\n",
       " 0.09764279962181066,\n",
       " 0.7897954084881458,\n",
       " 0.053276814820273466,\n",
       " 0.7090279322640851,\n",
       " 0.5323110981574615,\n",
       " 0.619567824063989,\n",
       " 0.9060258570518567,\n",
       " 0.6315831542679679,\n",
       " 0.6978104517587453,\n",
       " 0.6529173971298068,\n",
       " 0.09890330846702688,\n",
       " 0.20370483010084495,\n",
       " 0.258464702679041,\n",
       " 0.1421555890576135,\n",
       " 0.8384615020459736,\n",
       " 0.922628979023744,\n",
       " 0.9073352207268912,\n",
       " 0.2894562803850985,\n",
       " 0.411231235781252,\n",
       " 0.27648296569832154,\n",
       " 0.3823685307764606,\n",
       " 0.3241909445500091,\n",
       " 0.4517578099077535,\n",
       " 0.27143639533844144,\n",
       " 0.9580123899048804,\n",
       " 0.49954205524237616,\n",
       " 0.1913682395764702,\n",
       " 0.7982011868970882,\n",
       " 0.22431426919383157,\n",
       " 0.3996944636196831,\n",
       " 0.9512914254825209,\n",
       " 0.527315103007895,\n",
       " 0.2965053193497891,\n",
       " 0.7586102429319671,\n",
       " 0.8969017852594547,\n",
       " 0.8212731167222252,\n",
       " 0.13604453254970006,\n",
       " 0.41987058078844275,\n",
       " 0.7127402226883943,\n",
       " 0.8701806117676852,\n",
       " 0.648590875466604,\n",
       " 0.3522760351724826,\n",
       " 0.7358738477813935,\n",
       " 0.5050682573912564,\n",
       " 0.18246070099770006,\n",
       " 0.2510398255560141,\n",
       " 0.48160939459851937,\n",
       " 0.17408385651641345,\n",
       " 0.34420131600419224,\n",
       " 0.5630935495677201,\n",
       " 0.1393224112484599,\n",
       " 0.6308434393419959,\n",
       " 0.5232206944333802,\n",
       " 0.6640733038817029,\n",
       " 0.8564338253481191,\n",
       " 0.03553792743586959,\n",
       " 0.7239133400760979,\n",
       " 0.8355886642370417,\n",
       " 0.9976780288051613,\n",
       " 0.13834601528865742,\n",
       " 0.9951402085670608,\n",
       " 0.42883125545276335,\n",
       " 0.8048561834239154,\n",
       " 0.38401961466709034,\n",
       " 0.4494379699017996,\n",
       " 0.009124811761126783,\n",
       " 0.4992326997145202,\n",
       " 0.9183502228845108,\n",
       " 0.3421503210237701,\n",
       " 0.9154433536069915,\n",
       " 0.33710361925290544,\n",
       " 0.13988941175521186,\n",
       " 0.1995342387076895,\n",
       " 0.10818307830641416,\n",
       " 0.4734637459825325,\n",
       " 0.34563179245339226,\n",
       " 0.18400187445197436,\n",
       " 0.9928608195831932,\n",
       " 0.9268342562602772,\n",
       " 0.14852672037711712,\n",
       " 0.18998494838106983,\n",
       " 0.09577077578145332,\n",
       " 0.5737588563708838,\n",
       " 0.06011245168827151,\n",
       " 0.8907552627954017,\n",
       " 0.8937056558216755,\n",
       " 0.027474260925429594,\n",
       " 0.34298933287983957,\n",
       " 0.06885259339528826,\n",
       " 0.13562293610824538,\n",
       " 0.6175879952700261,\n",
       " 0.2839776810889383,\n",
       " 0.6877133709836828,\n",
       " 0.3788910909924379,\n",
       " 0.6530437808361814,\n",
       " 0.08833681787771586,\n",
       " 0.23210503459125353,\n",
       " 0.6270609863698735,\n",
       " 0.4532840432682833,\n",
       " 0.15592637597287262,\n",
       " 0.8276927041214457,\n",
       " 0.8038182149989724,\n",
       " 0.37931253038425206,\n",
       " 0.2550333188639402,\n",
       " 0.27875323830870846,\n",
       " 0.11710872734608035,\n",
       " 0.9137940964559567,\n",
       " 0.2926698495572937,\n",
       " 0.36680442218267506,\n",
       " 0.6733744372829964,\n",
       " 0.31186240775118235,\n",
       " 0.36724331683656464,\n",
       " 0.032048692462373296,\n",
       " 0.0403035747077265,\n",
       " 0.03236467692739875,\n",
       " 0.21067555956976447,\n",
       " 0.9985037174196848,\n",
       " 0.8939141708645432,\n",
       " 0.035784156896550234,\n",
       " 0.598107460240558,\n",
       " 0.9187597481946315,\n",
       " 0.31060485695294604,\n",
       " 0.22177917567821404,\n",
       " 0.6751953675824711,\n",
       " 0.43236894639077095,\n",
       " 0.3909038965674262,\n",
       " 0.9013412983284663,\n",
       " 0.6208706289214367,\n",
       " 0.267650765409722,\n",
       " 0.47243875298399995,\n",
       " 0.3818898022812611,\n",
       " 0.1154427423932386,\n",
       " 0.14309495661877358,\n",
       " 0.14655117132670037,\n",
       " 0.7751386463189736,\n",
       " 0.030904820548193213,\n",
       " 0.6311823082880736,\n",
       " 0.9850043055832725,\n",
       " 0.7225600677240545,\n",
       " 0.3971071815220233,\n",
       " 0.28269826573633094,\n",
       " 0.30441929730970585,\n",
       " 0.0032329781080741027,\n",
       " 0.8312789945556898,\n",
       " 0.0713591450373171,\n",
       " 0.41680296217142465,\n",
       " 0.2561514246990777,\n",
       " 0.6485072630923489,\n",
       " 0.036962574468834886,\n",
       " 0.05208970052911999,\n",
       " 0.6838716954573564,\n",
       " 0.05572036679377623,\n",
       " 0.26355479961406125,\n",
       " 0.6611207287283482,\n",
       " 0.8525991852032607,\n",
       " 0.10404572294200609,\n",
       " 0.09528072278224264,\n",
       " 0.3470352340690521,\n",
       " 0.9297227156793298,\n",
       " 0.13032230267807632,\n",
       " 0.778753263694942,\n",
       " 0.5304833778913252,\n",
       " 0.6756998907263854,\n",
       " 0.7610559447456878,\n",
       " 0.21142958018172353,\n",
       " 0.7365344651104726,\n",
       " 0.06949610138735862,\n",
       " 0.8949973317369618,\n",
       " 0.5946215768786954,\n",
       " 0.2687650060742943,\n",
       " 0.6085166410607744,\n",
       " 0.28066151657927096,\n",
       " 0.6475348960638999,\n",
       " 0.6742668569065391,\n",
       " 0.07450926725629892,\n",
       " 0.8655000034458576,\n",
       " 0.09754542496002272,\n",
       " 0.2752715914811936,\n",
       " 0.8132241636199846,\n",
       " 0.34316275192183443,\n",
       " 0.158299490410455,\n",
       " 0.9438358342717309,\n",
       " 0.8220047302107227,\n",
       " 0.28280756958582953,\n",
       " 0.6253322497047069,\n",
       " 0.7777844581657192,\n",
       " 0.23882042436985185,\n",
       " 0.9103635530698229,\n",
       " 0.7130115693433967,\n",
       " 0.8354950484075493,\n",
       " 0.5062469919863432,\n",
       " 0.5346570184552011,\n",
       " 0.9196688592743926,\n",
       " 0.9440182005896625,\n",
       " 0.8244880176249522,\n",
       " 0.015879792646957047,\n",
       " 0.2993768465886494,\n",
       " 0.5441848870896288,\n",
       " 0.10577651918707687,\n",
       " 0.1439956065387914,\n",
       " 0.32269532677183377,\n",
       " 0.4062489953351417,\n",
       " 0.8903704266831165,\n",
       " 0.40038863071507313,\n",
       " 0.20428710614012557,\n",
       " 0.9722123139734528,\n",
       " 0.4411120944896665,\n",
       " 0.17050007440487092,\n",
       " 0.8153906963822364,\n",
       " 0.17370733096273316,\n",
       " 0.8641771445639859,\n",
       " 0.7676806913202757,\n",
       " 0.25249046481782633,\n",
       " 0.45125654378922175,\n",
       " 0.4395439883296224,\n",
       " 0.12208982089464604,\n",
       " 0.6443744624479452,\n",
       " 0.3334360066456792,\n",
       " 0.23781568390608032,\n",
       " 0.43870439730053556,\n",
       " 0.09595154729835809,\n",
       " 0.06915182323067937,\n",
       " 0.10781100363464291,\n",
       " 0.43311965557665677,\n",
       " 0.2033185482175831,\n",
       " 0.2985792588923265,\n",
       " 0.008831870460656144,\n",
       " 0.0814777593217777,\n",
       " 0.2140417377302074,\n",
       " 0.2295174815652976,\n",
       " 0.2716286641064578,\n",
       " 0.050276906860881376,\n",
       " 0.11581685249775764,\n",
       " 0.3704420672968606,\n",
       " 0.010709742772369357,\n",
       " 0.6015001796135621,\n",
       " 0.4067936875530047,\n",
       " 0.0523264741463203,\n",
       " 0.9620659817629486,\n",
       " 0.78221020941797,\n",
       " 0.6855908237592212,\n",
       " 0.19122208783485772,\n",
       " 0.6261536059251263,\n",
       " 0.5096290139527002,\n",
       " 0.22606302517763122,\n",
       " 0.7855969259998143,\n",
       " 0.7506251841158142,\n",
       " 0.990220067137476,\n",
       " 0.8866907471155437,\n",
       " 0.06954830529778278,\n",
       " 0.7192567381839735,\n",
       " 0.6667380282892037,\n",
       " 0.5750057078806188,\n",
       " 0.2343315493209399,\n",
       " 0.7637264035422769,\n",
       " 0.23569899790056503,\n",
       " 0.886117134372218,\n",
       " 0.7565670420010234,\n",
       " 0.7230836973987093,\n",
       " 0.9902840817921551,\n",
       " 0.18838936312755905,\n",
       " 0.15367134938540805,\n",
       " 0.14659298761669304,\n",
       " 0.9990167893813392,\n",
       " 0.5938684148117823,\n",
       " 0.27442462531163725,\n",
       " 0.7977867056327512,\n",
       " 0.3783125683985583,\n",
       " 0.438506272086135,\n",
       " 0.4195777414180871,\n",
       " 0.32286511445038557,\n",
       " 0.48579434538217503,\n",
       " 0.21141694334453998,\n",
       " 0.023711750226384387,\n",
       " 0.13050830896004928,\n",
       " 0.026140627365486835,\n",
       " 0.4214601346043372,\n",
       " 0.023596732632398254,\n",
       " 0.326322305868609,\n",
       " 0.19843327224143414,\n",
       " 0.36094375396174283,\n",
       " 0.888091264830825,\n",
       " 0.22218529804698461,\n",
       " 0.8474143903308027,\n",
       " 0.9246429768385523,\n",
       " 0.17709410971784112,\n",
       " 0.703336100111355,\n",
       " 0.04157736325939998,\n",
       " 0.997808876198705,\n",
       " 0.3327747541803775,\n",
       " 0.5048082527136808,\n",
       " 0.36589517852860654,\n",
       " 0.8470398154291364,\n",
       " 0.11965212393145419,\n",
       " 0.17898412609359993,\n",
       " 0.6193910226291475,\n",
       " 0.48770319382931826,\n",
       " 0.7905717055240529,\n",
       " 0.261699656889096,\n",
       " 0.8788365078109366,\n",
       " 0.8546206921945303,\n",
       " 0.5284328529940127,\n",
       " 0.189482907955135,\n",
       " 0.41645725052547033,\n",
       " 0.7244186024935102,\n",
       " 0.12580487258943063,\n",
       " 0.20193543136658865,\n",
       " 0.6149394252260342,\n",
       " 0.860587163158483,\n",
       " 0.7500034036634353,\n",
       " 0.887048387024182,\n",
       " 0.9835601639831131,\n",
       " 0.7536684938077179,\n",
       " 0.680168685221401,\n",
       " 0.8091019404355656,\n",
       " 0.7984370089657559,\n",
       " 0.34181536687506275,\n",
       " 0.6984983963686288,\n",
       " 0.32822017993442953,\n",
       " 0.9726009170569427,\n",
       " 0.4095898368171298,\n",
       " 0.4184442632094445,\n",
       " 0.18808403640241922,\n",
       " 0.8934961416374619,\n",
       " 0.8997412198433044,\n",
       " 0.016656320534786495,\n",
       " 0.14121157311184118,\n",
       " 0.34754482076285953,\n",
       " 0.5534364400046312,\n",
       " 0.46476508664748895,\n",
       " 0.6460451120127216,\n",
       " 0.9202303002137179,\n",
       " 0.4703548745370034,\n",
       " 0.5788344902068013,\n",
       " 0.7614202852263009,\n",
       " 0.7390992519319529,\n",
       " 0.6630412172076273,\n",
       " 0.34814052885016356,\n",
       " 0.34800781327399055,\n",
       " 0.30101617660439406,\n",
       " 0.465135858787354,\n",
       " 0.40402995031578925,\n",
       " 0.449641471644614,\n",
       " 0.09044390735139562,\n",
       " 0.6333959149071334,\n",
       " 0.12495171289980045,\n",
       " 0.9658043440674504,\n",
       " 0.9602322622130397,\n",
       " 0.9919133280363649,\n",
       " 0.872426049946955,\n",
       " 0.011648634511978506,\n",
       " 0.07719370908044354,\n",
       " 0.7748201730572675,\n",
       " 0.07778118961546232,\n",
       " 0.31152233436379584,\n",
       " 0.4869490686901342,\n",
       " 0.7900305303347175,\n",
       " 0.06465399815385564,\n",
       " 0.8842414401498448,\n",
       " 0.5110502069189246,\n",
       " 0.9754683552551213,\n",
       " 0.8162083224510328,\n",
       " 0.45772805915275905,\n",
       " 0.17764375014798806,\n",
       " 0.6521497646821893,\n",
       " 0.82659718358907,\n",
       " 0.7773148987528457,\n",
       " 0.7069755336690683,\n",
       " 0.24055499660874835,\n",
       " 0.3903259435789207,\n",
       " 0.8998411107813693,\n",
       " 0.138573881842194,\n",
       " 0.5035837738528127,\n",
       " 0.36381853250526264,\n",
       " 0.8518791688193865,\n",
       " 0.8346905378088723,\n",
       " 0.7991993678740025,\n",
       " 0.3988994797621567,\n",
       " 0.08033480019206951,\n",
       " 0.3338056667164657,\n",
       " 0.7596834031711555,\n",
       " 0.5628429754020217,\n",
       " 0.4436977802301465,\n",
       " 0.4118666181204238,\n",
       " 0.27767026862309296,\n",
       " 0.5018571293209567,\n",
       " 0.6928151346992473,\n",
       " 0.6876615629570765,\n",
       " 0.3957779909572471,\n",
       " 0.5433323121442309,\n",
       " 0.7647596797102065,\n",
       " 0.7286951340516603,\n",
       " 0.8260786273798826,\n",
       " 0.9413742758201622,\n",
       " 0.3716968836765997,\n",
       " 0.5798688440918744,\n",
       " 0.04252407375492051,\n",
       " 0.27042127694610396,\n",
       " 0.2758477318714829,\n",
       " 0.7061415742683657,\n",
       " 0.2781943319087732,\n",
       " 0.3512417237955604,\n",
       " 0.980716941978594,\n",
       " 0.16542837368270102,\n",
       " 0.6047927231622257,\n",
       " 0.36685140757289836,\n",
       " 0.47111223958822823,\n",
       " 0.5002952870658607,\n",
       " 0.5905180130988906,\n",
       " 0.34996994372423584,\n",
       " 0.8143747081585578,\n",
       " 0.6112594917375228,\n",
       " 0.2223672099760554,\n",
       " 0.49257918523538136,\n",
       " 0.899840268840208,\n",
       " 0.08429212479895742,\n",
       " 0.07265958175493781,\n",
       " 0.10153802582938476,\n",
       " 0.6039091874262273,\n",
       " 0.7249318145232166,\n",
       " 0.24241469300023144,\n",
       " 0.2782661951713242,\n",
       " 0.22244612422551446,\n",
       " 0.19320077860890927,\n",
       " 0.2613850371247147,\n",
       " 0.8841250981449391]"
      ]
     },
     "execution_count": 93,
     "metadata": {},
     "output_type": "execute_result"
    }
   ],
   "source": [
    "grade"
   ]
  },
  {
   "cell_type": "code",
   "execution_count": null,
   "metadata": {
    "collapsed": true,
    "deletable": true,
    "editable": true
   },
   "outputs": [],
   "source": []
  }
 ],
 "metadata": {
  "anaconda-cloud": {},
  "kernelspec": {
   "display_name": "Python [conda env:fintech_modeling_gateway2-default]",
   "language": "python",
   "name": "conda-env-fintech_modeling_gateway2-default-py"
  },
  "language_info": {
   "codemirror_mode": {
    "name": "ipython",
    "version": 2
   },
   "file_extension": ".py",
   "mimetype": "text/x-python",
   "name": "python",
   "nbconvert_exporter": "python",
   "pygments_lexer": "ipython2",
   "version": "2.7.13"
  }
 },
 "nbformat": 4,
 "nbformat_minor": 2
}
